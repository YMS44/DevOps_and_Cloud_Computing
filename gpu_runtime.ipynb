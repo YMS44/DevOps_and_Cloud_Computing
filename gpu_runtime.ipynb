{
  "cells": [
    {
      "cell_type": "code",
      "execution_count": 1,
      "metadata": {
        "id": "yyZ6CatJu06R"
      },
      "outputs": [],
      "source": [
        "import numpy as np\n",
        "import time\n",
        "from numba import cuda"
      ]
    },
    {
      "cell_type": "code",
      "source": [
        "@cuda.jit\n",
        "def add_array(a,b,c):\n",
        "  i = cuda.grid(1)\n",
        "  if i < len(a):\n",
        "    c[i] = a[i] + b[i]"
      ],
      "metadata": {
        "id": "yQ2yJsFJwDhO"
      },
      "execution_count": 2,
      "outputs": []
    },
    {
      "cell_type": "code",
      "execution_count": 3,
      "metadata": {
        "id": "98Ftlgmvu06V"
      },
      "outputs": [],
      "source": [
        "# Define N as the number of elements\n",
        "N = 1000000000"
      ]
    },
    {
      "cell_type": "code",
      "execution_count": 4,
      "metadata": {
        "id": "cq-5FhSAu06W"
      },
      "outputs": [],
      "source": [
        "# Create Numpy arrays for a and b\n",
        "a = np.arange(N,dtype = np.float32)\n",
        "b = np.arange(N,dtype = np.float32)"
      ]
    },
    {
      "cell_type": "code",
      "source": [
        "# Allocate a devie array (dev_c) on the GPU using cuda.device_array_like\n",
        "dev_a = cuda.to_device(a)\n",
        "dev_b = cuda.to_device(b)\n",
        "dev_c = cuda.device_array_like(a)"
      ],
      "metadata": {
        "id": "gEfdxcR-wTVS"
      },
      "execution_count": 5,
      "outputs": []
    },
    {
      "cell_type": "code",
      "execution_count": 6,
      "metadata": {
        "id": "nRabolyZu06X"
      },
      "outputs": [],
      "source": [
        "start_time = time.perf_counter()"
      ]
    },
    {
      "cell_type": "code",
      "source": [
        "# Launch the CUDA kernel (add_array) with a configurable grid size and block size\n",
        "threadsperblock = 256\n",
        "blockspergrid = (N + threadsperblock - 1) // threadsperblock\n",
        "add_array[blockspergrid, threadsperblock](dev_a, dev_b, dev_c)"
      ],
      "metadata": {
        "id": "bzhY_rX2wrnr"
      },
      "execution_count": 7,
      "outputs": []
    },
    {
      "cell_type": "code",
      "source": [
        "cuda.synchronize()"
      ],
      "metadata": {
        "id": "B_prlTzlxQ7D"
      },
      "execution_count": 8,
      "outputs": []
    },
    {
      "cell_type": "code",
      "source": [
        "end_time = time.perf_counter()"
      ],
      "metadata": {
        "id": "syKrYF1kw8RQ"
      },
      "execution_count": 9,
      "outputs": []
    },
    {
      "cell_type": "code",
      "source": [
        "c = dev_c.copy_to_host()"
      ],
      "metadata": {
        "id": "A30dNUw20v0l"
      },
      "execution_count": 10,
      "outputs": []
    },
    {
      "cell_type": "code",
      "execution_count": 11,
      "metadata": {
        "colab": {
          "base_uri": "https://localhost:8080/"
        },
        "id": "R5gTNFGFu06Y",
        "outputId": "f482d2ff-6ef5-4328-deac-2114c2397339"
      },
      "outputs": [
        {
          "output_type": "stream",
          "name": "stdout",
          "text": [
            "Execution Time(Kernel + Memory + Transfer) : 0.6552 seconds\n"
          ]
        }
      ],
      "source": [
        "execution_time = end_time - start_time\n",
        "print(f'Execution Time(Kernel + Memory + Transfer) : {execution_time:.4f} seconds')"
      ]
    }
  ],
  "metadata": {
    "kernelspec": {
      "display_name": "Python 3",
      "name": "python3"
    },
    "language_info": {
      "codemirror_mode": {
        "name": "ipython",
        "version": 3
      },
      "file_extension": ".py",
      "mimetype": "text/x-python",
      "name": "python",
      "nbconvert_exporter": "python",
      "pygments_lexer": "ipython3",
      "version": "3.11.8"
    },
    "colab": {
      "provenance": [],
      "gpuType": "T4"
    },
    "accelerator": "GPU"
  },
  "nbformat": 4,
  "nbformat_minor": 0
}